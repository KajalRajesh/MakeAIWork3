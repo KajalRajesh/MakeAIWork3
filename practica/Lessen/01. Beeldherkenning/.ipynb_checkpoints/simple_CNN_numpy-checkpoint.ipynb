{
 "cells": [
  {
   "cell_type": "code",
   "execution_count": 8,
   "id": "88beb450-3e0a-4eb3-b239-e264009c7919",
   "metadata": {},
   "outputs": [],
   "source": [
    "import numpy as np"
   ]
  },
  {
   "cell_type": "code",
   "execution_count": 21,
   "id": "b74e9dd3-6db9-4821-bde5-457be347685c",
   "metadata": {},
   "outputs": [
    {
     "name": "stdout",
     "output_type": "stream",
     "text": [
      "[[ 0  0  0  0  0  0  0  0]\n",
      " [ 0  8  4  2  3  9  1  0]\n",
      " [ 0  0  6  4  3  7 10  0]\n",
      " [ 0  2  0  1  3  5  8  0]\n",
      " [ 0  6  3  1  4  8  2  0]\n",
      " [ 0  0  2  4  3  5  9  0]\n",
      " [ 0  2  7  9  1  3  5  0]\n",
      " [ 0  0  0  0  0  0  0  0]]\n"
     ]
    }
   ],
   "source": [
    "input_mat =np.matrix([[8,4,2,3,9,1],\n",
    "             [0,6,4,3,7,10],\n",
    "             [2,0,1,3,5,8],\n",
    "             [6,3,1,4,8,2],\n",
    "             [0,2,4,3,5,9],\n",
    "             [2,7,9,1,3,5]])\n",
    "input_mat1 = np.pad(input_mat, 1, 'constant')\n",
    "\n",
    " \n",
    "print(input_mat1)\n",
    "weight = np.matrix([[1, 0, -1],\n",
    "                   [1, 0, -1],\n",
    "                   [1, 0, -1]])"
   ]
  },
  {
   "cell_type": "code",
   "execution_count": 19,
   "id": "ce4cd4b2-bdd0-4167-8db6-c01767a90ae6",
   "metadata": {},
   "outputs": [
    {
     "name": "stdout",
     "output_type": "stream",
     "text": [
      "[[0 0 0 0 0 0]\n",
      " [0 0 0 0 0 0]\n",
      " [0 0 0 0 0 0]\n",
      " [0 0 0 0 0 0]\n",
      " [0 0 0 0 0 0]\n",
      " [0 0 0 0 0 0]]\n"
     ]
    }
   ],
   "source": [
    "conv_mat = [[0,0,0,0],\n",
    "            [0,0,0,0],\n",
    "            [0,0,0,0],\n",
    "            [0,0,0,0]]\n",
    "conv_mat1=np.pad(conv_mat, 1, 'constant')\n",
    "print(conv_mat1)"
   ]
  },
  {
   "cell_type": "code",
   "execution_count": 25,
   "id": "bae229dc-a58e-45bf-827a-a9439fc56c94",
   "metadata": {},
   "outputs": [
    {
     "name": "stdout",
     "output_type": "stream",
     "text": [
      "[[-10   2   4 -10  -5  16]\n",
      " [-10   3   1 -14 -10  21]\n",
      " [ -9   2  -1 -14 -10  20]\n",
      " [ -5   2  -5 -12  -9  18]\n",
      " [-12  -6   4  -2  -8  16]\n",
      " [ -9 -11   5   5 -10   8]]\n"
     ]
    }
   ],
   "source": [
    "for i in range(len(conv_mat1)):\n",
    "    for j in range(len(conv_mat1[0])):\n",
    "        conv_mat1[i][j]= np.multiply(input_mat1[i:i+3, j:j+3], weight).sum()\n",
    "        \n",
    "print (conv_mat1)"
   ]
  },
  {
   "cell_type": "code",
   "execution_count": null,
   "id": "e1b5a616-5998-48a3-8666-359fa4c6ddf5",
   "metadata": {},
   "outputs": [],
   "source": [
    "import skimage.measure\n",
    "skimage.measure.block_reduce(conv_mat1, (3,3), np.max)"
   ]
  }
 ],
 "metadata": {
  "kernelspec": {
   "display_name": "Python 3 (ipykernel)",
   "language": "python",
   "name": "python3"
  },
  "language_info": {
   "codemirror_mode": {
    "name": "ipython",
    "version": 3
   },
   "file_extension": ".py",
   "mimetype": "text/x-python",
   "name": "python",
   "nbconvert_exporter": "python",
   "pygments_lexer": "ipython3",
   "version": "3.10.8"
  }
 },
 "nbformat": 4,
 "nbformat_minor": 5
}
