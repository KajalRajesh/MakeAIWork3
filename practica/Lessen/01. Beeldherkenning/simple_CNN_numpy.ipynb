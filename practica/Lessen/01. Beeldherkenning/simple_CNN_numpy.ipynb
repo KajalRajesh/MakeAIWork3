{
 "cells": [
  {
   "cell_type": "code",
   "execution_count": 2,
   "id": "88beb450-3e0a-4eb3-b239-e264009c7919",
   "metadata": {},
   "outputs": [],
   "source": [
    "import numpy as np"
   ]
  },
  {
   "cell_type": "code",
   "execution_count": 3,
   "id": "b74e9dd3-6db9-4821-bde5-457be347685c",
   "metadata": {},
   "outputs": [
    {
     "name": "stdout",
     "output_type": "stream",
     "text": [
      "[[ 0  0  0  0  0  0  0  0]\n",
      " [ 0  8  4  2  3  9  1  0]\n",
      " [ 0  0  6  4  3  7 10  0]\n",
      " [ 0  2  0  1  3  5  8  0]\n",
      " [ 0  6  3  1  4  8  2  0]\n",
      " [ 0  0  2  4  3  5  9  0]\n",
      " [ 0  2  7  9  1  3  5  0]\n",
      " [ 0  0  0  0  0  0  0  0]]\n"
     ]
    }
   ],
   "source": [
    "input_mat =np.matrix([[8,4,2,3,9,1],\n",
    "             [0,6,4,3,7,10],\n",
    "             [2,0,1,3,5,8],\n",
    "             [6,3,1,4,8,2],\n",
    "             [0,2,4,3,5,9],\n",
    "             [2,7,9,1,3,5]])\n",
    "input_mat1 = np.pad(input_mat, 1, 'constant')\n",
    "\n",
    " \n",
    "print(input_mat1)\n",
    "weight = np.matrix([[1, 0, -1],\n",
    "                   [1, 0, -1],\n",
    "                   [1, 0, -1]])"
   ]
  },
  {
   "cell_type": "code",
   "execution_count": 4,
   "id": "ce4cd4b2-bdd0-4167-8db6-c01767a90ae6",
   "metadata": {},
   "outputs": [
    {
     "name": "stdout",
     "output_type": "stream",
     "text": [
      "[[0 0 0 0 0 0]\n",
      " [0 0 0 0 0 0]\n",
      " [0 0 0 0 0 0]\n",
      " [0 0 0 0 0 0]\n",
      " [0 0 0 0 0 0]\n",
      " [0 0 0 0 0 0]]\n"
     ]
    }
   ],
   "source": [
    "conv_mat = [[0,0,0,0],\n",
    "            [0,0,0,0],\n",
    "            [0,0,0,0],\n",
    "            [0,0,0,0]]\n",
    "conv_mat1=np.pad(conv_mat, 1, 'constant')\n",
    "print(conv_mat1)"
   ]
  },
  {
   "cell_type": "code",
   "execution_count": 5,
   "id": "bae229dc-a58e-45bf-827a-a9439fc56c94",
   "metadata": {},
   "outputs": [
    {
     "name": "stdout",
     "output_type": "stream",
     "text": [
      "(6, 6)\n"
     ]
    }
   ],
   "source": [
    "for i in range(len(conv_mat1)):\n",
    "    for j in range(len(conv_mat1[0])):\n",
    "        conv_mat1[i][j]= np.multiply(input_mat1[i:i+3, j:j+3], weight).sum()\n",
    "        \n",
    "print (conv_mat1.shape)"
   ]
  },
  {
   "cell_type": "code",
   "execution_count": 6,
   "id": "33160dfc-9195-4c66-bb57-1c37fc3f7267",
   "metadata": {},
   "outputs": [
    {
     "name": "stdout",
     "output_type": "stream",
     "text": [
      "[[ 3  4 21]\n",
      " [ 2 -1 20]\n",
      " [-6  5 16]]\n"
     ]
    }
   ],
   "source": [
    "m, n = conv_mat1.shape\n",
    "pooled = conv_mat1.reshape(m//2, 2, n//2, 2).max((1, 3))\n",
    "print(pooled)"
   ]
  },
  {
   "cell_type": "code",
   "execution_count": 7,
   "id": "e1b5a616-5998-48a3-8666-359fa4c6ddf5",
   "metadata": {},
   "outputs": [],
   "source": [
    "# import skimage.measure from numpy\n",
    "# skimage.measure.block_reduce(conv_mat1, (3,3), np.max)"
   ]
  },
  {
   "cell_type": "code",
   "execution_count": null,
   "id": "988be3d9-2151-42b8-b5ab-c5eaf586b1b7",
   "metadata": {},
   "outputs": [],
   "source": []
  }
 ],
 "metadata": {
  "kernelspec": {
   "display_name": "Python 3 (ipykernel)",
   "language": "python",
   "name": "python3"
  },
  "language_info": {
   "codemirror_mode": {
    "name": "ipython",
    "version": 3
   },
   "file_extension": ".py",
   "mimetype": "text/x-python",
   "name": "python",
   "nbconvert_exporter": "python",
   "pygments_lexer": "ipython3",
   "version": "3.10.8"
  }
 },
 "nbformat": 4,
 "nbformat_minor": 5
}
