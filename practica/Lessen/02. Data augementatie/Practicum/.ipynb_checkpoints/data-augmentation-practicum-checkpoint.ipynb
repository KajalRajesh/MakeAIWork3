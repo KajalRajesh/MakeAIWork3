{
 "cells": [
  {
   "cell_type": "markdown",
   "id": "e2ad83ef-4ee3-4463-9b5e-127f12237363",
   "metadata": {},
   "source": [
    "# Practicum Data Augmentation"
   ]
  },
  {
   "cell_type": "markdown",
   "id": "1f0beb08-683b-4d1a-8a3b-7c2938aef74f",
   "metadata": {},
   "source": [
    "## Imports"
   ]
  },
  {
   "cell_type": "code",
   "execution_count": 52,
   "id": "bae69bcc-d3fb-4d7a-898c-dd0277d573c4",
   "metadata": {
    "tags": []
   },
   "outputs": [],
   "source": [
    "# Voeg imports toe als je ze nodig hebt"
   ]
  },
  {
   "cell_type": "markdown",
   "id": "ab893eb4-4667-409f-9f7d-1f2e708be670",
   "metadata": {},
   "source": [
    "## Bronnen\n",
    "\n",
    "EuroSAT project: https://github.com/phelber/eurosat\n",
    "\n",
    "Pytorch Vision: https://pytorch.org/vision/stable/index.html"
   ]
  },
  {
   "cell_type": "markdown",
   "id": "aa07a2b7-f16c-4c82-8686-dc1d055cf908",
   "metadata": {},
   "source": [
    "## Context\n",
    "\n",
    "De hoeveelheid data is vaak de beperkende factor in machine learning met convolution neural nets (CNN). In dit practicum vergroten we de EuroSAT dataset kunstmatig, zodat ons CNN meer variatie ziet om van te leren."
   ]
  },
  {
   "cell_type": "markdown",
   "id": "5da250e7-2075-411c-b097-6bf232981619",
   "metadata": {
    "tags": []
   },
   "source": [
    "## Opdrachten"
   ]
  },
  {
   "cell_type": "markdown",
   "id": "cc1250e0-f7b7-48de-a1b2-9e66b1a5dbc9",
   "metadata": {},
   "source": [
    "### Opdracht 1: dataset downloaden\n",
    "\n",
    "Download de EuroSAT_RGB dataset.\n",
    "\n",
    "Zie https://zenodo.org/record/7711810#.ZAm3k-zMKEA voor de beschrijving."
   ]
  },
  {
   "cell_type": "code",
   "execution_count": 53,
   "id": "be793e15-40d7-4bcd-a5ac-6b7cec175e83",
   "metadata": {},
   "outputs": [],
   "source": [
    "# Extra: kun je de dataset ook met python downloaden?\n",
    "\n",
    "# Hint: gebruik de requests module"
   ]
  },
  {
   "cell_type": "markdown",
   "id": "d5a094db-f7b0-4aee-a95c-ec0ce3f2f48e",
   "metadata": {},
   "source": [
    "### Opdracht 2: dataset inspecteren\n",
    "\n",
    "Unzip de EuroSAT_RGB.zip in de folder van dit notebook (. path) en bekijk de inhoud."
   ]
  },
  {
   "cell_type": "code",
   "execution_count": 54,
   "id": "3ba6877c-9759-4f0f-8016-d72851d4ade9",
   "metadata": {},
   "outputs": [],
   "source": [
    "# Extra: kun je de dataset ook met python unzippen?\n",
    "\n",
    "# Hint: gebruik de zipfile module"
   ]
  },
  {
   "cell_type": "markdown",
   "id": "5e2c5852-b585-42ce-83b0-71d725cbeddd",
   "metadata": {},
   "source": [
    "### Opdracht 3: afbeelding inladen\n",
    "\n",
    "PyTorch Vision maakt het inladen van afbeeldingen gemakkelijk via:\n",
    "\n",
    "https://pytorch.org/vision/stable/io.html"
   ]
  },
  {
   "cell_type": "code",
   "execution_count": 55,
   "id": "22cbee1c-3871-4eb0-9fd8-be5695f7c6d6",
   "metadata": {},
   "outputs": [],
   "source": [
    "# a. Localiseer de afbeelding 'Industrial_1.jpg'\n",
    "\n",
    "# b. Wat is het relative pad van 'Industrial_1.jpg'?\n",
    "\n",
    "# c. Bekijk de documentatie van de PyTorch io module\n",
    "\n",
    "# d. Laad de afbeelding 'Industrial_1.jpg' in (variable 'industrial')"
   ]
  },
  {
   "cell_type": "code",
   "execution_count": 56,
   "id": "813359b1-8c73-47f7-89cc-1f4b4bf98f9d",
   "metadata": {},
   "outputs": [],
   "source": [
    "import torch\n",
    "import torch.nn as nn\n",
    "import torchvision.transforms as transforms\n",
    "import matplotlib.pyplot as plt\n",
    "from PIL import Image\n",
    "from torchvision import io\n",
    "import matplotlib.pyplot as plt\n",
    "from torchvision.utils import make_grid\n",
    "import torchvision\n",
    "\n",
    "# Path to the input image\n",
    "img_path = \"./../../../pics/2750/Industrial/Industrial_1001.jpg\"\n",
    "\n",
    "# Read the image using PyTorch's io module\n",
    "industrial = io.read_image(img_path)\n",
    "\n"
   ]
  },
  {
   "cell_type": "markdown",
   "id": "fd748ec9-c052-43ba-8a7f-110e47542d92",
   "metadata": {},
   "source": [
    "### Opdracht 4: afbeelding tonen\n",
    "\n",
    "PyTorch Vision maakt ook het tonen van afbeeldingen gemakkelijk."
   ]
  },
  {
   "cell_type": "code",
   "execution_count": 57,
   "id": "5563c265-e471-4f8b-a388-4da8229c5067",
   "metadata": {
    "tags": []
   },
   "outputs": [],
   "source": [
    "# a. Bekijk het overzicht op https://pytorch.org/vision/stable/index.html\n",
    "\n",
    "# b. Kun je iets vinden waarmee je een afbeelding kunt tonen?\n",
    "\n",
    "# c. Toon de afbeelding 'Industrial_1.jpg'"
   ]
  },
  {
   "cell_type": "code",
   "execution_count": 58,
   "id": "df049726-042b-4110-9977-486f7a6b5fe0",
   "metadata": {},
   "outputs": [],
   "source": [
    "\n",
    "img = Image.open(img_path)\n",
    "\n",
    "# Show the input image\n",
    "img.show()\n"
   ]
  },
  {
   "cell_type": "markdown",
   "id": "53e449d4-1e4d-4de5-9911-67a185ff6e4f",
   "metadata": {},
   "source": [
    "### Opdracht 5: afbeelding bewerken\n",
    "\n",
    "Ook augmentatie maakt PyTorch Vision makkelijk."
   ]
  },
  {
   "cell_type": "code",
   "execution_count": 59,
   "id": "c01e207a-d7da-4198-8c09-b9748d0c5874",
   "metadata": {
    "tags": []
   },
   "outputs": [],
   "source": [
    "# a. Welke module is bedoeld voor het bewerken van afbeeldingen?\n",
    "\n",
    "# b. Schaal de afbeelding op naar 2x de originele grootte (variable 'industrial_2x')\n",
    "\n",
    "# c. Voer een willekeurige rotatie uit op de vergrote afbeelding (variable 'industrial_2x_rot')\n",
    "\n",
    "# d. Converteer de bewerkte afbeelding naar grijstinten (variable 'industrial_2x_rot_gray')\n",
    "\n",
    "# e. Sla de bewerkte afbeeldingen op\n",
    "\n",
    "# f. Toon alle varianten in een grid"
   ]
  },
  {
   "cell_type": "code",
   "execution_count": 60,
   "id": "ea0cb2dd-bdf5-4e9e-874d-2a70f61dc056",
   "metadata": {},
   "outputs": [
    {
     "ename": "NameError",
     "evalue": "name 'torchvision' is not defined",
     "output_type": "error",
     "traceback": [
      "\u001b[1;31m---------------------------------------------------------------------------\u001b[0m",
      "\u001b[1;31mNameError\u001b[0m                                 Traceback (most recent call last)",
      "Cell \u001b[1;32mIn[60], line 14\u001b[0m\n\u001b[0;32m     11\u001b[0m industrial_2x_rot_gray \u001b[38;5;241m=\u001b[39m transform_gray(industrial_2x_rot)\n\u001b[0;32m     13\u001b[0m \u001b[38;5;66;03m#save\u001b[39;00m\n\u001b[1;32m---> 14\u001b[0m \u001b[43mtorchvision\u001b[49m\u001b[38;5;241m.\u001b[39mutils\u001b[38;5;241m.\u001b[39msave_image(industrial_2x, \u001b[38;5;124m\"\u001b[39m\u001b[38;5;124mindustrial_2x.jpg\u001b[39m\u001b[38;5;124m\"\u001b[39m)\n\u001b[0;32m     15\u001b[0m torchvision\u001b[38;5;241m.\u001b[39mutils\u001b[38;5;241m.\u001b[39msave_image(industrial_2x_rot, \u001b[38;5;124m\"\u001b[39m\u001b[38;5;124mindustrial_2x_rot.jpg\u001b[39m\u001b[38;5;124m\"\u001b[39m)\n\u001b[0;32m     16\u001b[0m torchvision\u001b[38;5;241m.\u001b[39mutils\u001b[38;5;241m.\u001b[39msave_image(industrial_2x_rot_gray, \u001b[38;5;124m\"\u001b[39m\u001b[38;5;124mindustrial_2x_rot_gray.jpg\u001b[39m\u001b[38;5;124m\"\u001b[39m)\n",
      "\u001b[1;31mNameError\u001b[0m: name 'torchvision' is not defined"
     ]
    }
   ],
   "source": [
    "#Schaal de afbeelding op naar 2x de originele grootte (variable 'industrial_2x')\n",
    "transform_2x = transforms.Resize((industrial.shape[1] * 2, industrial.shape[2] * 2))\n",
    "industrial_2x = transform_2x(industrial)\n",
    "\n",
    "#Voer een willekeurige rotatie uit op de vergrote afbeelding (variable 'industrial_2x_rot'\n",
    "transform_rot = transforms.RandomRotation(degrees=(-180, 180))\n",
    "industrial_2x_rot = transform_rot(industrial_2x)\n",
    "\n",
    "#Converteer de bewerkte afbeelding naar grijstinten (variable 'industrial_2x_rot_gray')\n",
    "transform_gray = transforms.Grayscale()\n",
    "industrial_2x_rot_gray = transform_gray(industrial_2x_rot)\n",
    "\n",
    "#save\n",
    "torchvision.utils.save_image(industrial_2x, \"industrial_2x.jpg\")\n",
    "torchvision.utils.save_image(industrial_2x_rot, \"industrial_2x_rot.jpg\")\n",
    "torchvision.utils.save_image(industrial_2x_rot_gray, \"industrial_2x_rot_gray.jpg\")\n",
    "#show\n",
    "\n",
    "grid = make_grid([industrial, industrial_2x, industrial_2x_rot, industrial_2x_rot_gray], nrow=2)\n",
    "plt.imshow(grid.permute(1, 2, 0))\n",
    "plt.axis('off')\n",
    "plt.show()"
   ]
  },
  {
   "cell_type": "code",
   "execution_count": null,
   "id": "d43f44d1-8e0b-4798-b26a-6fdccb4e0ed6",
   "metadata": {},
   "outputs": [],
   "source": [
    "# # Open the image using PIL and apply transformations\n",
    "# img = Image.open(img_path)\n",
    "# transform = transforms.Compose([transforms.Resize((224, 224)), transforms.ToTensor()])\n",
    "# img_tensor = transform(img)\n",
    "\n",
    "# # Transform the tensor to a suitable format for display\n",
    "# transform = transforms.ToPILImage()\n",
    "# img = transform(img_tensor)\n",
    "\n",
    "# # Show the input image\n",
    "# img.show()\n"
   ]
  },
  {
   "cell_type": "markdown",
   "id": "fe20990b-e9d1-4059-bc8a-c70c5c203866",
   "metadata": {},
   "source": [
    "### Reflectie\n",
    "\n",
    "Zijn alle transformaties zinnig voor deze dataset?"
   ]
  },
  {
   "cell_type": "code",
   "execution_count": null,
   "id": "f26221e9-234f-4eff-b903-55081c96efa0",
   "metadata": {},
   "outputs": [],
   "source": [
    "# Extra: Je kunt alle acties ook bundelen, zie: https://pytorch.org/vision/stable/generated/torchvision.transforms.Compose.html#torchvision.transforms.Compose\n",
    "\n",
    "# # a. Probeer nog een aantal transformaties uit en bundel ze als 1 tranformatie\n",
    "# # Open the image using PIL and apply transformations\n",
    "# img = Image.open(img_path)\n",
    "# transform = transforms.Compose([transforms.Resize((224, 224)), transforms.ToTensor()])\n",
    "# img_tensor = transform(img)\n",
    "\n",
    "# # Transform the tensor to a suitable format for display\n",
    "# transform = transforms.ToPILImage()\n",
    "# img = transform(img_tensor)\n",
    "\n",
    "# # Show the input image\n",
    "# img.show()\n"
   ]
  },
  {
   "cell_type": "markdown",
   "id": "56fe158e-a814-4ff2-8764-bc754d561f0f",
   "metadata": {},
   "source": [
    "### Opdracht 6: batch bewerkingen\n",
    "\n",
    "Tot nu toe hebben we een enkele afbeelding bewerkt."
   ]
  },
  {
   "cell_type": "code",
   "execution_count": null,
   "id": "02c2d49d-6d23-4cb2-899f-ff674644c893",
   "metadata": {},
   "outputs": [],
   "source": [
    "# Generaliseer de bovenstaande stappen en batch-bewerk de Industrial folder\n",
    "\n",
    "# ..."
   ]
  }
 ],
 "metadata": {
  "kernelspec": {
   "display_name": "Python 3 (ipykernel)",
   "language": "python",
   "name": "python3"
  },
  "language_info": {
   "codemirror_mode": {
    "name": "ipython",
    "version": 3
   },
   "file_extension": ".py",
   "mimetype": "text/x-python",
   "name": "python",
   "nbconvert_exporter": "python",
   "pygments_lexer": "ipython3",
   "version": "3.10.11"
  }
 },
 "nbformat": 4,
 "nbformat_minor": 5
}
