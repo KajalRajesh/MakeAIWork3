{
 "cells": [
  {
   "cell_type": "markdown",
   "id": "3f430533-2ac6-4557-a6ff-c7f96b3530da",
   "metadata": {
    "tags": []
   },
   "source": [
    "# Simulatie casino kansspel"
   ]
  },
  {
   "cell_type": "markdown",
   "id": "d9ee1a06-6308-4d02-973b-05337c7035c5",
   "metadata": {},
   "source": [
    "![roulette](roulette-red.jpg)"
   ]
  },
  {
   "cell_type": "markdown",
   "id": "48902cf8-23e7-4396-a74b-ce74a7bba3a7",
   "metadata": {},
   "source": [
    "## Spelregels"
   ]
  },
  {
   "cell_type": "markdown",
   "id": "44744256-08d4-4768-9306-a9fabe138687",
   "metadata": {},
   "source": [
    "1. Speler kan inzetten op **zwart** of **rood**\n",
    "2. Inzet is **\\\\$10**\n",
    "3. Kleur juist geraden is verdubbeling van de inzet dus **\\\\$20**\n",
    "4. Spel stopt als geld op is"
   ]
  },
  {
   "cell_type": "markdown",
   "id": "5c0f86a5-921e-4051-8e83-678337ec8bf3",
   "metadata": {
    "tags": []
   },
   "source": [
    "## Probleem doorgronden (analyse)"
   ]
  },
  {
   "cell_type": "markdown",
   "id": "71d71a50-2199-49bd-a3a0-27a6428ffc29",
   "metadata": {},
   "source": [
    "Doel: bepalen hoeveel ronden te spelen met **$40**\n",
    "\n",
    "1. Hoe bepalen we of het rood of zwart wordt?\n",
    "2. Hoe bepalen we wat de speler kiest?\n",
    "3. Hoe bepalen we wat we moeten uitkeren?\n",
    "4. Hoe houden we het geld van de speler bij?"
   ]
  },
  {
   "cell_type": "markdown",
   "id": "033e2436-801f-41e0-b696-320391f3a920",
   "metadata": {},
   "source": [
    "## Aanpak in grote lijnen (schetsen)"
   ]
  },
  {
   "cell_type": "code",
   "execution_count": 2,
   "id": "cf7a4597-0f93-4d77-b014-f1aceda7b826",
   "metadata": {},
   "outputs": [],
   "source": [
    "# Situation 1: how many rounds can player play with $40?\n",
    "\n",
    "# Player starts with $40\n",
    "\n",
    "# While playerBank > 0:\n",
    "    # 1. Place bet: choose color\n",
    "    # 2. Subtract $10\n",
    "    # 3. Casino rolls dice to determine color outcome\n",
    "    # 4. Check if win or lose\n",
    "    # 5. Update bank\n",
    "    # 6. Update round counter\n",
    "\n",
    "# Print #rounds"
   ]
  },
  {
   "cell_type": "markdown",
   "id": "8d6169e5-ef62-420b-80bf-b80f82e0d487",
   "metadata": {
    "tags": []
   },
   "source": [
    "## Bepalen rood/zwart (implementatie)"
   ]
  },
  {
   "cell_type": "code",
   "execution_count": 3,
   "id": "ad70b343-461c-464e-9566-80ffc88eaf34",
   "metadata": {},
   "outputs": [],
   "source": [
    "# Get function random() from random module\n",
    "from random import random\n",
    "\n",
    "# Labels for readability\n",
    "\n",
    "Red = \"red\"\n",
    "Black = \"black\"\n",
    "\n",
    "# Simulate dice roll\n",
    "def flip():\n",
    "    \n",
    "    # Function random() returns a uniform random number between 0 and 1\n",
    "    if random() < 0.5:\n",
    "        \n",
    "        return Black\n",
    "    \n",
    "    else:\n",
    "        \n",
    "        return Red"
   ]
  },
  {
   "cell_type": "markdown",
   "id": "9fcca076-634a-4040-9a50-edd5c082b3b1",
   "metadata": {},
   "source": [
    "## Uitwerken comments (implementatie)"
   ]
  },
  {
   "cell_type": "code",
   "execution_count": 4,
   "id": "16216de5-600e-41ff-a199-7ab239a30e02",
   "metadata": {},
   "outputs": [
    {
     "name": "stdout",
     "output_type": "stream",
     "text": [
      "126\n"
     ]
    }
   ],
   "source": [
    "# Player starts with $40\n",
    "\n",
    "playerBank = 40\n",
    "countRounds = 0\n",
    "\n",
    "\n",
    "# Simulation start here\n",
    "while playerBank > 0:\n",
    "    \n",
    "    #place bet\n",
    "    bet = flip()\n",
    "    \n",
    "    #pay\n",
    "    playerBank -=10\n",
    "    \n",
    "    #casino flip\n",
    "    casino = flip()\n",
    "    \n",
    "    #check if win or loose\n",
    "    if casino == bet:\n",
    "        playerBank +=20\n",
    "        \n",
    "    #how many rounds? add counter \n",
    "    countRounds +=1\n",
    "    \n",
    "\n",
    "\n",
    "# Print #rounds\n",
    "\n",
    "print(countRounds)"
   ]
  },
  {
   "cell_type": "markdown",
   "id": "488701f6-1a41-42fa-98c8-d565ec602045",
   "metadata": {},
   "source": [
    "Hoe hoog is het bedrag maximaal?"
   ]
  },
  {
   "cell_type": "code",
   "execution_count": 5,
   "id": "a151b1f6-9ee7-443e-bf55-2675fe5ceeaf",
   "metadata": {},
   "outputs": [
    {
     "name": "stdout",
     "output_type": "stream",
     "text": [
      "34\n",
      "70\n"
     ]
    }
   ],
   "source": [
    "# Player starts with $40\n",
    "\n",
    "playerBank = 40\n",
    "countRounds = 0\n",
    "bankMax = 0\n",
    "\n",
    "# Simulation start here\n",
    "while playerBank > 0:\n",
    "    \n",
    "    #place bet\n",
    "    bet = flip()\n",
    "    \n",
    "    #pay\n",
    "    playerBank -=10\n",
    "    \n",
    "    #casino flip\n",
    "    casino = flip()\n",
    "    \n",
    "    #check if win or loose\n",
    "    if casino == bet:\n",
    "        playerBank +=20\n",
    "        \n",
    "    #how many rounds? add counter \n",
    "    countRounds +=1\n",
    "    \n",
    "     # 7. Check maximum\n",
    "    if  bankMax < playerBank:\n",
    "        \n",
    "        # 8. Override max\n",
    "        bankMax = playerBank\n",
    "\n",
    "\n",
    "# Print rounds\n",
    "\n",
    "print(countRounds)\n",
    "print(bankMax)"
   ]
  },
  {
   "cell_type": "code",
   "execution_count": null,
   "id": "61778e06-f767-41aa-b532-2886c4afcf85",
   "metadata": {},
   "outputs": [],
   "source": []
  }
 ],
 "metadata": {
  "kernelspec": {
   "display_name": "Python 3 (ipykernel)",
   "language": "python",
   "name": "python3"
  },
  "language_info": {
   "codemirror_mode": {
    "name": "ipython",
    "version": 3
   },
   "file_extension": ".py",
   "mimetype": "text/x-python",
   "name": "python",
   "nbconvert_exporter": "python",
   "pygments_lexer": "ipython3",
   "version": "3.10.8"
  },
  "toc-showcode": false,
  "toc-showmarkdowntxt": false
 },
 "nbformat": 4,
 "nbformat_minor": 5
}
