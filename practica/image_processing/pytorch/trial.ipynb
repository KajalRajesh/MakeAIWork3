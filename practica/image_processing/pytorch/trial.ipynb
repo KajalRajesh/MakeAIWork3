{
 "cells": [
  {
   "cell_type": "code",
   "execution_count": 20,
   "id": "ac46fc5f-f02f-4fa4-b3cd-1fcc01cd6f71",
   "metadata": {},
   "outputs": [],
   "source": [
    "import torchvision\n",
    "import torchvision.transforms.functional as F\n",
    "import torchvision.transforms as T\n",
    "from torchvision.io import ImageReadMode\n",
    "from torchvision.io import read_image\n",
    "from torch import nn\n",
    "from torch.utils.data import Dataset, DataLoader\n",
    "import matplotlib.pyplot as plt\n",
    "import torch\n",
    "import os\n",
    "from torchvision import transforms, datasets\n",
    "from torchvision.datasets import ImageFolder"
   ]
  },
  {
   "cell_type": "code",
   "execution_count": 21,
   "id": "0533ae76-54fc-4962-8075-d07df6b37b62",
   "metadata": {},
   "outputs": [],
   "source": [
    "transform = transforms.Compose([\n",
    "    transforms.Resize((128, 128)),\n",
    "    transforms.RandomHorizontalFlip(p=0.5)\n",
    "])"
   ]
  },
  {
   "cell_type": "code",
   "execution_count": 22,
   "id": "07a82e76-21e8-49a0-bdcf-1a57895800be",
   "metadata": {},
   "outputs": [],
   "source": [
    "train_dataset = torchvision.datasets.ImageFolder(root=\"C:/Users/Lenovo/MakeAIWork3/practica/pics/2750\", transform=transform)"
   ]
  },
  {
   "cell_type": "code",
   "execution_count": 23,
   "id": "7cfe2c90-f995-4c3d-af20-45d1c715277d",
   "metadata": {},
   "outputs": [],
   "source": [
    "import glob\n",
    "import os\n",
    "\n",
    "\n",
    "class CustomDataset(Dataset):\n",
    "    def __init__(self, root_dir, transform):\n",
    "        self.transform = transform\n",
    "        self.image_paths = []\n",
    "        for ext in ['png', 'jpg']:\n",
    "            self.image_paths += glob.glob(os.path.join(root_dir, '*', f'*.{ext}'))\n",
    "        class_set = set()\n",
    "        for path in self.image_paths:\n",
    "            class_set.add(os.path.dirname(path))\n",
    "        self.class_lbl = { cls: i for i, cls in enumerate(sorted(list(class_set)))}\n",
    "\n",
    "    def __len__(self):\n",
    "        return len(self.image_paths)\n",
    "\n",
    "    def __getitem__(self, idx):\n",
    "        img = read_image(self.image_paths[idx], ImageReadMode.RGB).float()\n",
    "        cls = os.path.basename(os.path.dirname(self.image_paths[idx]))\n",
    "        label = self.class_lbl[cls]\n",
    "\n",
    "        return self.transform(img), torch.tensor(label)"
   ]
  },
  {
   "cell_type": "code",
   "execution_count": 24,
   "id": "d67121f7-edb3-4b2e-93b3-d4f5ecad1516",
   "metadata": {},
   "outputs": [],
   "source": [
    "dataset = CustomDataset('C:/Users/Lenovo/MakeAIWork3/practica/pics/2750/', transform)"
   ]
  },
  {
   "cell_type": "code",
   "execution_count": null,
   "id": "b9d57e2d-1f50-46ca-bf3f-4b938ebb3c41",
   "metadata": {},
   "outputs": [],
   "source": [
    "splits = [0.8, 0.1, 0.1]"
   ]
  },
  {
   "cell_type": "code",
   "execution_count": null,
   "id": "5de628f3-85e3-41ce-a33c-1ecba1a4e8a4",
   "metadata": {},
   "outputs": [],
   "source": [
    "split_sizes = []\n",
    "for sp in splits[:-1]:\n",
    "    split_sizes.append(int(sp * len(dataset)))\n",
    "split_sizes.append(len(dataset) - sum(split_sizes))"
   ]
  }
 ],
 "metadata": {
  "kernelspec": {
   "display_name": "Python 3 (ipykernel)",
   "language": "python",
   "name": "python3"
  },
  "language_info": {
   "codemirror_mode": {
    "name": "ipython",
    "version": 3
   },
   "file_extension": ".py",
   "mimetype": "text/x-python",
   "name": "python",
   "nbconvert_exporter": "python",
   "pygments_lexer": "ipython3",
   "version": "3.10.11"
  }
 },
 "nbformat": 4,
 "nbformat_minor": 5
}
