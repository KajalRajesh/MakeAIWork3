{
 "cells": [
  {
   "cell_type": "markdown",
   "id": "ce776e9e-e316-4a03-ad68-d9e0a090b894",
   "metadata": {},
   "source": [
    "<a href=\"https://it-omscholing.nl/locaties/hogeschool-rotterdam/\">\n",
    "<div>\n",
    "<a><img src='../../../pics/banner.PNG'/></a>\n",
    "</div>\n",
    "<div>\n",
    "<img src='../../../pics/miw.PNG'/>\n",
    "<em>Author: Jeroen Boogaard</em>\n",
    "</div>\n",
    "</a>"
   ]
  },
  {
   "cell_type": "markdown",
   "id": "b57ce072-c647-44a4-8078-07045ee55df9",
   "metadata": {},
   "source": [
    "<h1>Practicum Basis Statistiek / SQL </h1>"
   ]
  },
  {
   "cell_type": "markdown",
   "id": "9f080c20-09e7-415e-b4b8-91b340464972",
   "metadata": {},
   "source": [
    "<h2>Imports<h2>"
   ]
  },
  {
   "cell_type": "code",
   "execution_count": 1,
   "id": "fc9cc22c-9b16-4f97-be97-65fa68a4f5b6",
   "metadata": {},
   "outputs": [],
   "source": [
    "from matplotlib import pyplot as plt\n",
    "from matplotlib_venn import venn2, venn3\n",
    "from PIL import Image\n",
    "import pandas as pd\n",
    "import sqlite3\n",
    "from pathlib import Path"
   ]
  },
  {
   "cell_type": "markdown",
   "id": "206be2e2-1646-4b41-bc5d-e23ca9ce2199",
   "metadata": {},
   "source": [
    "<h2>Extract, Transform and Load</h2>"
   ]
  },
  {
   "cell_type": "markdown",
   "id": "27681fa7-135e-4301-9eb3-b0d945ca7f45",
   "metadata": {},
   "source": [
    "<h3>Extract</h3>"
   ]
  },
  {
   "cell_type": "code",
   "execution_count": 2,
   "id": "3dc0221e-2539-46d5-9b46-f5031b987547",
   "metadata": {},
   "outputs": [],
   "source": [
    "# https://raw.githubusercontent.com/ajturner/acetate/master/places/Countries-Europe.csv\n",
    "csvFile = \"../csv/countries_europe.csv\"\n",
    "euCsvFile = \"../csv/european_union.csv\"\n",
    "\n",
    " # Create Pandas DataFrames\n",
    "europeDF = pd.read_csv(csvFile, sep=',', header=0)\n",
    "euDF = pd.read_csv(euCsvFile)\n",
    "db = \"europe.db\""
   ]
  },
  {
   "cell_type": "code",
   "execution_count": 3,
   "id": "649e4d4f-bcf5-40ad-9f58-55a1481b9d8d",
   "metadata": {},
   "outputs": [],
   "source": [
    "benelux = {\"Belgium\", \"The Netherlands\", \"Luxembourg\"}\n",
    "nordics = {\"Denmark\", \"Finland\", \"Iceland\", \"Norway\", \"Sweden\"}\n",
    "baltics = {\"Estonia\", \"Latvia\", \"Lithuania\"}"
   ]
  },
  {
   "cell_type": "markdown",
   "id": "3915f0da-d771-4470-93e7-8b0337b472af",
   "metadata": {},
   "source": [
    "<h3>Load</h3>"
   ]
  },
  {
   "cell_type": "markdown",
   "id": "c50ff7d2-c034-43fd-b19d-24a3f4d1513f",
   "metadata": {},
   "source": [
    "<p>Maak een lege database</p>"
   ]
  },
  {
   "cell_type": "code",
   "execution_count": 5,
   "id": "e93fbfb3-a656-4d84-8a63-5c73ba1e7493",
   "metadata": {},
   "outputs": [],
   "source": [
    "# !sqlite3 europe.db \"VACUUM;\"\n",
    "\n",
    "# dit werkt niet dus hebben we ene lege db van Jeroen gekregen"
   ]
  },
  {
   "cell_type": "markdown",
   "id": "690e5625-3cc2-4efc-b692-96fe91b37e24",
   "metadata": {},
   "source": [
    "**Maak verbinding met de database**"
   ]
  },
  {
   "cell_type": "code",
   "execution_count": 4,
   "id": "2e63c59f-e85b-41c7-87a5-b1973ffa5652",
   "metadata": {},
   "outputs": [],
   "source": [
    "# Connect to SQLite database\n",
    "dbConnection = sqlite3.connect(db)\n",
    "# specifieke code om de elementen uit tuples in de list van een query te halen:\n",
    "# dbConnection.row_factory = lambda cursor, row: row[0]\n",
    "# beter is een generieke code:\n",
    "# result = dbCursor.execute(query).fetchall()[0][0]\n",
    "\n",
    "dbCursor = dbConnection.cursor()\n",
    "\n",
    "\n"
   ]
  },
  {
   "cell_type": "markdown",
   "id": "a851f75c-1b37-4bec-9f92-146f45457533",
   "metadata": {},
   "source": [
    "<p>Maak tabellen <u>countries</u> en <u>eu</u> o.b.v. de dataset</p>"
   ]
  },
  {
   "cell_type": "code",
   "execution_count": 5,
   "id": "0372fa16-5ba5-4aac-874f-67566b093721",
   "metadata": {},
   "outputs": [
    {
     "data": {
      "text/plain": [
       "27"
      ]
     },
     "execution_count": 5,
     "metadata": {},
     "output_type": "execute_result"
    }
   ],
   "source": [
    "europeDF.to_sql('countries', dbConnection, if_exists='replace', index = False)\n",
    "euDF.to_sql('eu', dbConnection, if_exists='replace', index = False)"
   ]
  },
  {
   "cell_type": "markdown",
   "id": "d5815f41-4b94-4e85-a5c2-29e1d9abd33f",
   "metadata": {},
   "source": [
    "**Gebruik een SQL query voor het selecteren van bepaalde kolommen / features****Gebruik een SQL query voor het selecteren van bepaalde kolommen / features**"
   ]
  },
  {
   "cell_type": "code",
   "execution_count": 6,
   "id": "49f0c2b3-63f5-43f3-9bf5-da41344ccb6b",
   "metadata": {},
   "outputs": [
    {
     "name": "stdout",
     "output_type": "stream",
     "text": [
      "[(3, 'Ukraine', 'Ukr.', 'UKR', 804, 603700.0, 45415596, 49.0, 32.0, 'eu')]\n",
      "<class 'list'>\n"
     ]
    }
   ],
   "source": [
    "query = \"\"\"\n",
    "    SELECT *\n",
    "    FROM countries\n",
    "    WHERE Code='UKR'\n",
    "\"\"\"\n",
    "\n",
    "result = dbCursor.execute(query).fetchall()\n",
    "print(result)\n",
    "print(type(result))"
   ]
  },
  {
   "cell_type": "markdown",
   "id": "413ffef2-daca-4a4a-8e6e-3810324d7e2a",
   "metadata": {},
   "source": [
    "<h3>Exercise 1</h3>\n",
    "<p>\n",
    "    Gebruik SQL queries voor het <u>joinen</u> van de tabellen <u>countries</u> en <u>eu</u> o.b.v. <u>Code</u>\n",
    "</p>"
   ]
  },
  {
   "cell_type": "code",
   "execution_count": 52,
   "id": "5e61d66c-78ec-4798-87ec-16a553d286ae",
   "metadata": {},
   "outputs": [],
   "source": [
    "# Oplossing"
   ]
  },
  {
   "cell_type": "code",
   "execution_count": 7,
   "id": "bc044c71-ee05-45b2-b200-9a06a98ed6dd",
   "metadata": {},
   "outputs": [
    {
     "name": "stdout",
     "output_type": "stream",
     "text": [
      "[(3, 'France', 'Fr.', 'FRA', 250, 547030.0, 64768389, 46.0, 2.0, 'eu', 'FRA', 'France', '1958-01-01'), (3, 'Spain', 'Spain', 'ESP', 724, 504782.0, 46505963, 40.0, -4.0, 'eu', 'ESP', 'Spain', '1986-01-01'), (3, 'Sweden', 'Swe.', 'SWE', 752, 449964.0, 9045000, 62.0, 15.0, 'eu', 'SWE', 'Sweden', '1995-01-01'), (3, 'Germany', 'Ger.', 'DEU', 276, 357021.0, 82369000, 51.5, 10.5, 'eu', 'DEU', 'Germany', '1958-01-01'), (3, 'Finland', 'Fin.', 'FIN', 246, 337030.0, 5244000, 64.0, 26.0, 'eu', 'FIN', 'Finland', '1995-01-01'), (3, 'Poland', 'Pol.', 'POL', 616, 312685.0, 38500000, 52.0, 20.0, 'eu', 'POL', 'Poland', '2004-05-01'), (3, 'Italy', 'Italy', 'ITA', 380, 301230.0, 58145000, 42.83, 12.83, 'eu', 'ITA', 'Italy', '1958-01-01'), (3, 'Romania', 'Rom.', 'ROU', 642, 237500.0, 21959278, 46.0, 25.0, 'eu', 'ROU', 'Romania', '2007-01-01'), (3, 'Greece', 'Grc.', 'GRC', 300, 131940.0, 11000000, 39.0, 22.0, 'eu', 'GRC', 'Greece', '1981-01-01'), (3, 'Bulgaria', 'Blg.', 'BGR', 100, 110910.0, 7148785, 43.0, 25.0, 'eu', 'BGR', 'Bulgaria', '2007-01-01'), (3, 'Portugal', 'Port.', 'PRT', 620, 92391.0, 10676000, 39.5, -8.0, 'eu', 'PRT', 'Portugal', '1986-01-01'), (3, 'Czech Republic', 'Czech Rep.', 'CZE', 203, 78866.0, 10476000, 49.75, 15.0, 'eu', 'CZE', 'Czechia', '2004-05-01'), (3, 'Denmark', 'Den.', 'DNK', 208, 43094.0, 5484000, 56.0, 10.0, 'eu', 'DNK', 'Denmark', '1973-01-01'), (4, 'Hungary', 'Hung.', 'HUN', 348, 93030.0, 9930000, 47.0, 20.0, 'eu', 'HUN', 'Hungary', '2004-05-01'), (4, 'Austria', 'Aus.', 'AUT', 40, 83858.0, 8205000, 47.33, 13.33, 'eu', 'AUT', 'Austria', '1995-01-01'), (4, 'Ireland', 'Ire.', 'IRL', 372, 70280.0, 4622917, 53.0, -8.0, 'eu', 'IRL', 'Ireland', '1973-01-01'), (4, 'Lithuania', 'Lith.', 'LTU', 440, 65200.0, 3565000, 56.0, 24.0, 'eu', 'LTU', 'Lithuania', '2004-05-01'), (4, 'Latvia', 'Lat.', 'LVA', 428, 64589.0, 2217969, 57.0, 25.0, 'eu', 'LVA', 'Latvia', '2004-05-01'), (4, 'Croatia', 'Cro.', 'HRV', 191, 56542.0, 4491000, 45.17, 15.5, 'eu', 'HRV', 'Croatia', '2013-07-01'), (4, 'Slovakia', 'Slvk.', 'SVK', 703, 48845.0, 5455000, 48.67, 19.5, 'eu', 'SVK', 'Slovakia', '2004-05-01'), (4, 'Estonia', 'Est.', 'EST', 233, 45226.0, 1291170, 59.0, 26.0, 'eu', 'EST', 'Estonia', '2004-05-01'), (4, 'Netherlands', 'Neth.', 'NLD', 528, 41526.0, 16645000, 52.5, 5.75, 'eu', 'NLD', 'Netherlands', '1958-01-01'), (4, 'Belgium', 'Bel.', 'BEL', 56, 30510.0, 10403000, 50.83, 4.0, 'eu', 'BEL', 'Belgium', '1958-01-01'), (4, 'Slovenia', 'Slvn.', 'SVN', 705, 20273.0, 2007000, 46.25, 15.17, 'eu', 'SVN', 'Slovenia', '2004-05-01'), (4, 'Cyprus', 'Cyp.', 'CYP', 196, 9250.0, 1102677, 35.0, 33.0, 'asia', 'CYP', 'Cyprus', '2004-05-01'), (4, 'Luxembourg', 'Lux.', 'LUX', 442, 2586.0, 497538, 49.75, 6.17, 'eu', 'LUX', 'Luxembourg', '1958-01-01'), (4, 'Malta', 'Malta', 'MLT', 470, 316.0, 403000, 35.92, 14.43, 'eu', 'MLT', 'Malta', '2004-05-01')]\n",
      "<class 'list'>\n"
     ]
    }
   ],
   "source": [
    "query = \"\"\"\n",
    "    SELECT *\n",
    "    FROM countries\n",
    "    INNER JOIN eu\n",
    "    ON countries.Code = eu.Code\n",
    "\"\"\"\n",
    "\n",
    "result = dbCursor.execute(query).fetchall()\n",
    "print(result)\n",
    "print(type(result))"
   ]
  },
  {
   "cell_type": "markdown",
   "id": "7456c7a9-21d3-43a7-8762-5d6dd02b6add",
   "metadata": {},
   "source": [
    "<h2>Afhankelijke en onafhankelijke variabelen</h2>"
   ]
  },
  {
   "cell_type": "markdown",
   "id": "b924f686-642d-41a9-b61b-cb01c19bda29",
   "metadata": {},
   "source": [
    "<h3>Overlappende uitkomsten</h3>"
   ]
  },
  {
   "cell_type": "code",
   "execution_count": 8,
   "id": "4e029cc4-5080-4cf7-a8f1-c609b3357ebd",
   "metadata": {},
   "outputs": [],
   "source": [
    "eu = {\"Austria\", \"Belgium\", \"Bulgaria\", \"Croatia\", \"Cyprus\", \"Czechia\", \"Denmark\", \"Estonia\", \"Finland\", \"France\", \"Germany\", \"Greece\", \"Hungary\", \"Ireland\", \"Italy\", \"Latvia\", \"Lithuania\", \"Luxembourg\", \"Malta\", \"The Netherlands\", \"Poland\", \"Portugal\", \"Romania\", \"Slovakia\", \"Slovenia\", \"Spain\", \"Sweden\"}\n",
    "benelux = {\"Belgium\", \"The Netherlands\", \"Luxembourg\"}\n",
    "nordics = {\"Denmark\", \"Finland\", \"Iceland\", \"Norway\", \"Sweden\"}\n",
    "baltics = {\"Estonia\", \"Latvia\", \"Lithuania\"}"
   ]
  },
  {
   "cell_type": "code",
   "execution_count": 9,
   "id": "e5db0cea-3fe2-4e22-b6d1-f511e4a7bc99",
   "metadata": {},
   "outputs": [
    {
     "data": {
      "text/plain": [
       "<matplotlib_venn._common.VennDiagram at 0x7f2cd1fa45e0>"
      ]
     },
     "execution_count": 9,
     "metadata": {},
     "output_type": "execute_result"
    },
    {
     "data": {
      "image/png": "[encoded data removed]",
      "text/plain": [
       "<Figure size 640x480 with 1 Axes>"
      ]
     },
     "metadata": {},
     "output_type": "display_data"
    }
   ],
   "source": [
    "venn3([benelux, baltics, eu], ('Benelux', 'Baltics', 'EU'))"
   ]
  },
  {
   "cell_type": "markdown",
   "id": "2a6640a3-38f5-4561-a6f1-3a4b26e2f39c",
   "metadata": {},
   "source": [
    "<h3>Exercise 2</h3>\n",
    "<p>\n",
    "    Gebruik SQL queries voor het verkrijgen van\n",
    "<ol>\n",
    "    <li>P(Nordics); de kans dat een Europees land onderdeel is van de Nordics</li>\n",
    "    <li><u>P(EU)</u>; de kans dat een Europees land lid is van de Europese Unie</li>\n",
    "    <li><u>P(EU and Nordics)</u>; de kans dat een land onderdeel is van de Nordics en lid is van de EU. Dus zowel in Nordics als EU</li>\n",
    "</ol>\n",
    "Bereken met bovenstaande gegevens P(EU|Nordics); de kans dat een Europees land lid is van de Europese Unie gegeven dat het in de Nordics</li>\n",
    "</p>"
   ]
  },
  {
   "cell_type": "code",
   "execution_count": 13,
   "id": "234d255d-5fcb-46a4-b1ca-58422af2f679",
   "metadata": {},
   "outputs": [
    {
     "name": "stdout",
     "output_type": "stream",
     "text": [
      "['Ukraine', 'France', 'Spain', 'Sweden', 'Germany', 'Finland', 'Norway', 'Poland', 'Italy', 'United Kingdom', 'Romania', 'Belarus', 'Greece', 'Bulgaria', 'Iceland', 'Portugal', 'Czech Republic', 'Denmark', 'Hungary', 'Serbia', 'Austria', 'Ireland', 'Lithuania', 'Latvia', 'Croatia', 'Bosnia and Herzegovina', 'Slovakia', 'Estonia', 'Netherlands', 'Switzerland', 'Moldova', 'Belgium', 'Albania', 'Macedonia', 'Slovenia', 'Montenegro', 'Cyprus', 'Luxembourg', 'Faroe Is.', 'Andorra', 'Malta', 'Liechtenstein', 'Guernsey', 'San Marino', 'Gibraltar', 'Monaco', 'Vatican City']\n",
      "47\n",
      "['Norway', 'Iceland', 'Denmark', 'Finland', 'Sweden']\n",
      "5\n"
     ]
    }
   ],
   "source": [
    "# Oplossing\n",
    "# manier 1: je kan dit in pandas oplossen\n",
    "# europeDF['name']\n",
    "# manier 2: je kan dit in sql opossen met create groups and inner join\n",
    "# manier 3: je vraagt de info op uit de db en lost het op in python\n",
    "\n",
    "query = \"\"\"\n",
    "    SELECT name\n",
    "    FROM countries\n",
    "    \n",
    "\"\"\"\n",
    "\n",
    "europeTupledList = dbCursor.execute(query).fetchall()\n",
    "europeList = [i[0] for i in europeTupledList] # europeTupledList ont-tupled\n",
    "print(europeList)\n",
    "print(len(europeList))\n",
    "\n",
    "nordics = {\"Denmark\", \"Finland\", \"Iceland\", \"Norway\", \"Sweden\"}\n",
    "nordicsList = list(nordics)\n",
    "print(nordicsList)\n",
    "print(len(nordicsList))\n"
   ]
  },
  {
   "cell_type": "code",
   "execution_count": 19,
   "id": "12517b06-8b1d-4018-88d6-8f675d7884d5",
   "metadata": {},
   "outputs": [],
   "source": [
    "def comp(list1, list2):\n",
    "    for val in list1:\n",
    "        if val in list2:\n",
    "            return True\n",
    "    return False\n"
   ]
  },
  {
   "cell_type": "code",
   "execution_count": 20,
   "id": "9edcc4cb-935a-4cad-9f65-c577190ae205",
   "metadata": {},
   "outputs": [
    {
     "data": {
      "text/plain": [
       "True"
      ]
     },
     "execution_count": 20,
     "metadata": {},
     "output_type": "execute_result"
    }
   ],
   "source": [
    "comp(nordicsList,europeList)"
   ]
  },
  {
   "cell_type": "code",
   "execution_count": 33,
   "id": "2901e386-bf79-46d7-a7d7-f6f414dca598",
   "metadata": {},
   "outputs": [],
   "source": [
    "def comp2(list1, list2):\n",
    "    count = 0\n",
    "    for val in list1:\n",
    "        if val in list2:\n",
    "            print( val )\n",
    "            count += 1\n",
    "    return count\n",
    "    \n"
   ]
  },
  {
   "cell_type": "code",
   "execution_count": 34,
   "id": "b332415d-ab1e-43ca-9f7a-9ccbdc86294f",
   "metadata": {},
   "outputs": [
    {
     "name": "stdout",
     "output_type": "stream",
     "text": [
      "Norway\n",
      "Iceland\n",
      "Denmark\n",
      "Finland\n",
      "Sweden\n"
     ]
    },
    {
     "data": {
      "text/plain": [
       "5"
      ]
     },
     "execution_count": 34,
     "metadata": {},
     "output_type": "execute_result"
    }
   ],
   "source": [
    "comp2(nordicsList,europeList)"
   ]
  },
  {
   "cell_type": "code",
   "execution_count": 38,
   "id": "7617affd-04e6-433b-b54b-559b67f75356",
   "metadata": {},
   "outputs": [
    {
     "name": "stdout",
     "output_type": "stream",
     "text": [
      "10.638297872340425\n"
     ]
    }
   ],
   "source": [
    "P_N = 5/47 * 100\n",
    "\n",
    "print(P_N)"
   ]
  },
  {
   "cell_type": "code",
   "execution_count": 40,
   "id": "94b2d784-1daf-4956-a939-864690c38d6d",
   "metadata": {},
   "outputs": [
    {
     "name": "stdout",
     "output_type": "stream",
     "text": [
      "['Austria', 'Belgium', 'Bulgaria', 'Croatia', 'Cyprus', 'Czechia', 'Denmark', 'Estonia', 'Finland', 'France', 'Germany', 'Greece', 'Hungary', 'Ireland', 'Italy', 'Latvia', 'Lithuania', 'Luxembourg', 'Malta', 'Netherlands', 'Poland', 'Portugal', 'Romania', 'Slovakia', 'Slovenia', 'Spain', 'Sweden']\n",
      "27\n"
     ]
    }
   ],
   "source": [
    "query = \"\"\"\n",
    "    SELECT name #beter is op landcode want dan geen verschil in name\n",
    "    FROM eu\n",
    "    \n",
    "\"\"\"\n",
    "\n",
    "euTupledList = dbCursor.execute(query).fetchall()\n",
    "euList = [i[0] for i in euTupledList] # europeTupledList ont-tupled\n",
    "print(euList)\n",
    "print(len(euList))"
   ]
  },
  {
   "cell_type": "code",
   "execution_count": 74,
   "id": "7a880277-f8a4-4d24-9a4e-cd2782997460",
   "metadata": {},
   "outputs": [
    {
     "name": "stdout",
     "output_type": "stream",
     "text": [
      "Czechia\n"
     ]
    },
    {
     "data": {
      "text/plain": [
       "26"
      ]
     },
     "execution_count": 74,
     "metadata": {},
     "output_type": "execute_result"
    }
   ],
   "source": [
    "def comp3(list1, list2):\n",
    "    count = 0\n",
    "    for val in list1:\n",
    "        if val in list2:\n",
    "            \n",
    "            count += 1\n",
    "        else:\n",
    "            print( val )\n",
    "    return count\n",
    "    \n",
    "\n",
    "\n",
    "# comp2(euList,europeList)\n",
    "comp3(euList,europeList)"
   ]
  },
  {
   "cell_type": "code",
   "execution_count": 71,
   "id": "64a58804-0c3b-42eb-91d8-da1ca5932412",
   "metadata": {},
   "outputs": [
    {
     "name": "stdout",
     "output_type": "stream",
     "text": [
      "55.319148936170215\n"
     ]
    }
   ],
   "source": [
    "P_EU = 27/47 * 100\n",
    "\n",
    "print(P_EU)"
   ]
  },
  {
   "cell_type": "code",
   "execution_count": 42,
   "id": "58773d94-373a-4021-9ee7-b0dbb4e4b4c3",
   "metadata": {},
   "outputs": [
    {
     "name": "stdout",
     "output_type": "stream",
     "text": [
      "Denmark\n",
      "Finland\n",
      "Sweden\n"
     ]
    },
    {
     "data": {
      "text/plain": [
       "3"
      ]
     },
     "execution_count": 42,
     "metadata": {},
     "output_type": "execute_result"
    }
   ],
   "source": [
    "comp2(nordicsList,euList)"
   ]
  },
  {
   "cell_type": "code",
   "execution_count": 72,
   "id": "f5280314-2bf7-4d86-80ca-0fd08bbce5cc",
   "metadata": {},
   "outputs": [
    {
     "name": "stdout",
     "output_type": "stream",
     "text": [
      "11.11111111111111\n"
     ]
    }
   ],
   "source": [
    "P_N_EU = 3/27 * 100\n",
    "\n",
    "print(P_N_EU)"
   ]
  },
  {
   "cell_type": "code",
   "execution_count": 59,
   "id": "f57f3aef-7b89-4d09-a064-c63c777bebcf",
   "metadata": {},
   "outputs": [],
   "source": [
    "# Close connection to SQLite database\n",
    "\n",
    "dbConnection.close()"
   ]
  },
  {
   "cell_type": "code",
   "execution_count": null,
   "id": "500eb00a-21a9-450c-b82b-aebc66024830",
   "metadata": {},
   "outputs": [],
   "source": []
  },
  {
   "cell_type": "code",
   "execution_count": null,
   "id": "ac2f7be3-4ca1-406d-bbaf-06416b906f0a",
   "metadata": {},
   "outputs": [],
   "source": []
  },
  {
   "cell_type": "code",
   "execution_count": null,
   "id": "cb4fabc2-eae7-4f7c-93e0-0f2e1b5d5f54",
   "metadata": {},
   "outputs": [],
   "source": []
  },
  {
   "cell_type": "code",
   "execution_count": null,
   "id": "a232fe8a-b403-408b-8a3d-3bbfe445ba4b",
   "metadata": {},
   "outputs": [],
   "source": []
  }
 ],
 "metadata": {
  "kernelspec": {
   "display_name": "Python 3 (ipykernel)",
   "language": "python",
   "name": "python3"
  },
  "language_info": {
   "codemirror_mode": {
    "name": "ipython",
    "version": 3
   },
   "file_extension": ".py",
   "mimetype": "text/x-python",
   "name": "python",
   "nbconvert_exporter": "python",
   "pygments_lexer": "ipython3",
   "version": "3.10.10"
  },
  "vscode": {
   "interpreter": {
    "hash": "f68f299bfc83d1d1d9574646c62f1d323f7babfe5075d8c6a87cc260ed8a7f36"
   }
  }
 },
 "nbformat": 4,
 "nbformat_minor": 5
}
