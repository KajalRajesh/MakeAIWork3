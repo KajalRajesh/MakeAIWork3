{
 "cells": [
  {
   "cell_type": "code",
   "execution_count": 7,
   "id": "c0074c42-1ebf-4ed2-899e-32f2aed40d2e",
   "metadata": {},
   "outputs": [],
   "source": [
    "import torch\n",
    "import torch.nn as nn\n",
    "import torchvision.models as models"
   ]
  },
  {
   "cell_type": "code",
   "execution_count": 8,
   "id": "05bcb0d0-cfac-4ee7-9309-acfeb124343a",
   "metadata": {},
   "outputs": [],
   "source": [
    "resnet = models.resnet18(pretrained=True)"
   ]
  },
  {
   "cell_type": "code",
   "execution_count": 9,
   "id": "7e0bef24-10a6-42ef-8224-baba05f83d72",
   "metadata": {},
   "outputs": [],
   "source": [
    "num_classes = 4  # Replace with the number of classes in your task\n",
    "\n",
    "# Change the number of output features in the last fully connected layer\n",
    "num_features = resnet.fc.in_features\n",
    "resnet.fc = nn.Linear(num_features, num_classes)\n"
   ]
  },
  {
   "cell_type": "code",
   "execution_count": null,
   "id": "5d938780-d09c-4d47-b4c1-e0d47fb74240",
   "metadata": {},
   "outputs": [],
   "source": [
    "criterion = nn.CrossEntropyLoss()\n",
    "optimizer = torch.optim.SGD(resnet.parameters(), lr=0.001, momentum=0.9)"
   ]
  },
  {
   "cell_type": "code",
   "execution_count": null,
   "id": "a0cd0bfc-d6b8-4c21-9663-96fae742014e",
   "metadata": {},
   "outputs": [],
   "source": [
    "def label_images_in_directories(main_directory):\n",
    "    label_names = []\n",
    "    image_files = []\n",
    "    for directory in os.listdir(main_directory):\n",
    "        sub_directory = os.path.join(main_directory, directory)\n",
    "        if os.path.isdir(sub_directory):\n",
    "            for filename in os.listdir(sub_directory):\n",
    "                image_file = os.path.join(sub_directory, filename)\n",
    "                if os.path.isfile(image_file) and filename.endswith(\".jpg\"):\n",
    "                    label_names.append(directory)\n",
    "                    image_files.append(image_file)\n",
    "\n",
    "    # image_tensors = [plt.imread(image).astype(float) / 255 for image in image_files]\n",
    "\n",
    "    # image_tensors = [tio.read_image(image).to(torch.float32)/255 for image in image_files]\n",
    "    # nr_of_images = len(image_tensors)\n",
    "    image_tensors = [torchvision.io.read_image(image, mode=ImageReadMode.UNCHANGED).to(torch.float32)/255 for image in image_files]\n",
    "    nr_of_images = len(image_tensors)\n",
    "    \n",
    "\n",
    "    # print(f\"The first image has label: {label_names[220]}\")\n",
    "    # print(f\"The last image has label: {label_names[nr_of_images - 1]}\")\n",
    "    # print(len(label_names))\n",
    "    # print(len(image_files))\n",
    "\n",
    "    return label_names, image_tensors\n",
    "# print(image_tensors)\n",
    "\n",
    "\n",
    "train_dir = \"C:/Users/Lenovo/MakeAIWork3/images/Train\"\n",
    "label_names, image_tensors = label_images_in_directories(train_dir)\n",
    "\n",
    "test_dir = \"C:/Users/Lenovo/MakeAIWork3/images/Test\"\n",
    "label_names, image_tensors = label_images_in_directories(test_dir)\n",
    "\n",
    "print(type(image_tensors))\n",
    "\n",
    "# Define the transformations before entering the neural network\n",
    "transform = transforms.Compose([\n",
    "    transforms.Resize((224, 224)),  # Resize images to 224x224 pixels\n",
    "    transforms.ToTensor(),  # Convert images to tensors\n",
    "    transforms.Normalize(mean=[0.5, 0.5, 0.5], std=[0.5, 0.5, 0.5])  # Normalize the images\n",
    "])\n",
    "\n",
    "# Load the training and test datasets\n",
    "train_dataset = ImageFolder(train_dir, transform=transform)\n",
    "test_dataset = ImageFolder(test_dir, transform=transform)\n",
    "\n",
    "# display(train_dataset)\n",
    "# print(len(train_dataset))\n",
    "# print(len(test_dataset))\n",
    "\n",
    "# Create DataLoaders for managing the data batches\n",
    "batch_size = 32\n",
    "train_loader = DataLoader(train_dataset, batch_size=batch_size, shuffle=True)\n",
    "test_loader = DataLoader(test_dataset, batch_size=batch_size, shuffle=False)\n",
    "# 6. Train the model\n",
    "for epoch in range(num_epochs):\n",
    "    resnet.train()  # Set the model to training mode\n",
    "\n",
    "    for images, labels in train_loader:\n",
    "        optimizer.zero_grad()\n",
    "        outputs = resnet(images)\n",
    "        loss = criterion(outputs, labels)\n",
    "        loss.backward()\n",
    "        optimizer.step()\n",
    "\n",
    "# 7. Evaluate the model\n",
    "resnet.eval()  # Set the model to evaluation mode\n",
    "total_correct = 0\n",
    "total_samples = 0\n",
    "\n",
    "with torch.no_grad():\n",
    "    for images, labels in test_loader:\n",
    "        outputs = resnet(images)\n",
    "        _, predicted = torch.max(outputs.data, 1)\n",
    "        total_samples += labels.size(0)\n",
    "        total_correct += (predicted == labels).sum().item()\n",
    "\n",
    "accuracy = 100 * total_correct / total_samples\n",
    "print(f\"Accuracy: {accuracy:.2f}%\")"
   ]
  }
 ],
 "metadata": {
  "kernelspec": {
   "display_name": "Python 3 (ipykernel)",
   "language": "python",
   "name": "python3"
  },
  "language_info": {
   "codemirror_mode": {
    "name": "ipython",
    "version": 3
   },
   "file_extension": ".py",
   "mimetype": "text/x-python",
   "name": "python",
   "nbconvert_exporter": "python",
   "pygments_lexer": "ipython3",
   "version": "3.10.11"
  }
 },
 "nbformat": 4,
 "nbformat_minor": 5
}
