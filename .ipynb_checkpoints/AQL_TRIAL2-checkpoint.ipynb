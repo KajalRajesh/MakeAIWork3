{
 "cells": [
  {
   "cell_type": "code",
   "execution_count": 576,
   "id": "19bbb31c-9469-4e71-a167-c510936d5cc2",
   "metadata": {},
   "outputs": [],
   "source": [
    "# import random\n",
    "\n",
    "# # Define the desired label distribution\n",
    "# label_distribution = {\n",
    "#     'healthy': 14,\n",
    "#     'blotch': 2,\n",
    "#     'rotten': 1,\n",
    "#     'scab': 3\n",
    "# }\n",
    "\n",
    "# # Initialize an empty batch list\n",
    "# batch = []\n",
    "\n",
    "# # Compile the batch based on the label distribution\n",
    "# for label, count in label_distribution.items():\n",
    "#     batch.extend([label] * count)\n",
    "\n",
    "# # Shuffle the batch\n",
    "# random.shuffle(batch)\n",
    "\n",
    "# # Perform anomaly recognition on the batch\n",
    "# def anomaly_recognizer(apple):\n",
    "#     # Placeholder logic for anomaly recognition\n",
    "#     # Replace this with your actual model or logic\n",
    "#     if apple == 'healthy':\n",
    "#         return 'good'\n",
    "#     else:\n",
    "#         return 'bad'\n",
    "\n",
    "# # Evaluate the outcome of the label for each apple in the batch\n",
    "# outcome_counts = {\n",
    "#     'good': 0,\n",
    "#     'bad': 0\n",
    "# }\n",
    "\n",
    "# for apple in batch:\n",
    "#     outcome = anomaly_recognizer(apple)\n",
    "#     outcome_counts[outcome] += 1\n",
    "\n",
    "# # # Calculate the reliability of the outcome\n",
    "\n",
    "# # percentage_bad_apples = (outcome_counts['bad'] / len(batch))*100\n",
    "# # AQL = 0.4\n",
    "\n",
    "\n",
    "# # Display the batch statistics and outcome reliability\n",
    "# total_apples = len(batch)\n",
    "# healthy_apples = label_distribution['healthy']\n",
    "# blotch_apples = label_distribution['blotch']\n",
    "# rotten_apples = label_distribution['rotten']\n",
    "# scab_apples = label_distribution['scab']\n",
    "\n",
    "# print(\"Batch Statistics:\")\n",
    "# print(\"-----------------\")\n",
    "# print(f\"Total Apples: {total_apples}\")\n",
    "# print(f\"Healthy Apples: {healthy_apples}\")\n",
    "# print(f\"Blotch Apples: {blotch_apples}\")\n",
    "# print(f\"Rotten Apples: {rotten_apples}\")\n",
    "# print(f\"Scab Apples: {scab_apples}\")\n",
    "\n",
    "# print(\"\\nOutcome Statistics:\")\n",
    "# print(\"------------------\")\n",
    "# print(f\"Good Apples (Correctly recognized as healthy): {outcome_counts['good']}\")\n",
    "# print(f\"Bad Apples (Incorrectly recognized as unhealthy): {outcome_counts['bad']}\")\n",
    "# print(f\"A percentage_bad_apples: {percentage_bad_apples}\")\n",
    "\n",
    "# if  percentage_bad_apples < AQL:\n",
    "#     print(f\"if  percent, the batch is bad for delivery\")\n",
    "    \n",
    "# print(f\"if  percent, the batch is bad for delivery\")\n",
    "# print(f\"if {percentage_bad_apples} is LESS than {AQL} percent, the batch is good for delivery\")"
   ]
  },
  {
   "cell_type": "raw",
   "id": "8bff0bbc-2a19-4030-88f3-369c19a86213",
   "metadata": {},
   "source": [
    "Klasse 1: AQL kleiner of gelijk aan 0.4\n",
    "Klasse 2: AQL tussen 0.4 en 6.5\n",
    "Klasse 3: AQL tussen 6.5 en 15.0\n",
    "Afgekeurd: AQL groter dan 15.0"
   ]
  },
  {
   "cell_type": "raw",
   "id": "0a52dd63-9da6-4c39-a609-1e06d8996a4b",
   "metadata": {},
   "source": [
    "ik wil:\n",
    "1 een lijst maken met n,b,r,s\n",
    "  vervolgens een lot maken van 500 groot\n",
    "  daarna random een getal tussen 1 en 4 trekken, als getal is 1 dan n += 1, als getal 2 dan b += 1 etc - zo komt de lijst vol met willekuerige appels\n",
    "  vervolgens uit de lijst van 500 random een sample van 32 appels trekken - samples gaan niet terug naar de 500-lijst\n",
    "  daarmee gaan we testen"
   ]
  },
  {
   "cell_type": "code",
   "execution_count": 577,
   "id": "0d89658a-1db9-4343-8f2f-7d273300d033",
   "metadata": {},
   "outputs": [],
   "source": [
    "import random"
   ]
  },
  {
   "cell_type": "code",
   "execution_count": 578,
   "id": "7c8f4d20-4534-4539-9ccb-a1aa3f96ec9c",
   "metadata": {},
   "outputs": [],
   "source": [
    "# # The code in this cell works, but will -in the end- always lead to the verdict : ' klasse 4'. Therefore beneath this cell another, less random, lotlist created to #test the qualification-proces\n",
    "lotlist= list()\n",
    "for i in range(500):\n",
    "    a = random.randrange(1,4)\n",
    "    lotlist.append(a)\n",
    "    \n",
    "# Meaning of the numbers in the lotlist\n",
    "# 1 = normal appel\n",
    "# 2 = blotch\n",
    "# 3 = rot\n",
    "# 4 = scab\n",
    "# print(len(lotlist))\n"
   ]
  },
  {
   "cell_type": "code",
   "execution_count": 579,
   "id": "5feda8a1-70fa-4545-9541-63604925507a",
   "metadata": {},
   "outputs": [],
   "source": [
    "# Just for testing purposes:\n",
    "\n",
    "# lotlist= list()\n",
    "\n",
    "# for i in range(400):\n",
    "#      lotlist.append(1)\n",
    "\n",
    "# for i in range(100):\n",
    "#      lotlist.append(2)\n",
    "# print(len(lotlist))"
   ]
  },
  {
   "cell_type": "code",
   "execution_count": 580,
   "id": "b4934421-f1c2-42a5-941d-0900e40bfa1d",
   "metadata": {},
   "outputs": [
    {
     "name": "stdout",
     "output_type": "stream",
     "text": [
      "[1, 3, 4, 1, 4, 2, 3, 4, 4, 1, 3, 4, 2, 1, 4, 1, 3, 1, 1, 2, 2, 2, 1, 2, 3, 1, 2, 3, 3, 1, 3, 3]\n",
      "32\n"
     ]
    }
   ],
   "source": [
    "sample32 = random.sample(lotlist, k=32)\n",
    "# display(sample32)\n",
    "# display(type(sample32))\n",
    "# display(len(sample32))\n",
    "\n",
    "print(sample32)\n",
    "print(len(sample32))"
   ]
  },
  {
   "cell_type": "code",
   "execution_count": 581,
   "id": "447ef7ee-74a0-4b97-960b-8147ca5a10a6",
   "metadata": {},
   "outputs": [
    {
     "name": "stdout",
     "output_type": "stream",
     "text": [
      "10\n",
      "7\n",
      "9\n",
      "6\n",
      "22\n",
      "32\n"
     ]
    }
   ],
   "source": [
    "amount_normal = 0\n",
    "amount_blotch = 0\n",
    "amount_rot = 0\n",
    "amount_scab = 0\n",
    "amount_bad = 0\n",
    "\n",
    "for i in sample32:\n",
    "    if i == 1:  # good apple\n",
    "        amount_normal += 1\n",
    "    elif i == 2:\n",
    "        amount_blotch += 1\n",
    "        amount_bad += 1\n",
    "    elif i == 3:\n",
    "        amount_rot += 1\n",
    "        amount_bad += 1      \n",
    "    else:\n",
    "        amount_scab += 1\n",
    "        amount_bad += 1 \n",
    "print(amount_normal)   \n",
    "print(amount_blotch)   \n",
    "print(amount_rot)   \n",
    "print(amount_scab)  \n",
    "print(amount_bad)   \n",
    "print(amount_normal + amount_bad)"
   ]
  },
  {
   "cell_type": "code",
   "execution_count": 582,
   "id": "9ef97bc5-21dd-473f-952a-23fc98a8cc23",
   "metadata": {},
   "outputs": [],
   "source": [
    "\n",
    "\n",
    "# Define the desired label distribution\n",
    "# label_distribution = {\n",
    "#     'healthy': 14,\n",
    "#     'blotch': 2,\n",
    "#     'rotten': 1,\n",
    "#     'scab': 3\n",
    "# }\n",
    "# outcome_dict= {'normal': amount_normal, 'blotched': amount_blotch, 'rotten': amount_rot, 'scab': amount_scab}\n",
    "# print(outcome_dict)\n"
   ]
  },
  {
   "cell_type": "code",
   "execution_count": 583,
   "id": "d17fcab5-7db8-4cf1-af1e-cb6dcc10895e",
   "metadata": {},
   "outputs": [
    {
     "name": "stdout",
     "output_type": "stream",
     "text": [
      "% slechte appels: 68.75\n",
      "Klasse 4: naar de varkens ermee!\n"
     ]
    }
   ],
   "source": [
    "# tot_num_outcome_dict = len(sample32)\n",
    "# print(tot_num_outcome_dict)\n",
    "\n",
    "# outcome_dict = {'normal': amount_normal, 'blotched': amount_blotch, 'rotten': amount_rot, 'scab': amount_scab}\n",
    "# print(outcome_dict)\n",
    "\n",
    "perc_bad_apples = (amount_bad / len(sample32)) * 100\n",
    "print(f'% slechte appels: {perc_bad_apples}')\n",
    "\n",
    "if perc_bad_apples <= 15:\n",
    "    print('Klasse 1: naar supermarkt')\n",
    "# elif perc_bad_apples > 0.4 and perc_bad_apples <= 6.5:\n",
    "#     print('Klasse 2: naar appelmoesfabriek')\n",
    "# elif perc_bad_apples >= 6.5 and perc_bad_apples < 15:\n",
    "#     print('Klasse 3: naar appelstroopfabriek')\n",
    "else:\n",
    "    print('Klasse 4: naar de varkens ermee!')"
   ]
  },
  {
   "cell_type": "code",
   "execution_count": 584,
   "id": "13f6540b-1bb0-4f26-80c6-5fc76d87e150",
   "metadata": {},
   "outputs": [],
   "source": [
    "# bad_apples = tot_num_outcome_dict - outcome_dict['normal']\n",
    "# print(bad_apples)"
   ]
  },
  {
   "cell_type": "code",
   "execution_count": 585,
   "id": "2812a09f-ad7f-4598-8e68-3cba2eb916a2",
   "metadata": {},
   "outputs": [],
   "source": [
    "# perc_bad_apples = (amount_bad/len(sample32))*100\n",
    "# print(f'% slechte appels: {perc_bad_apples}')"
   ]
  },
  {
   "cell_type": "code",
   "execution_count": 586,
   "id": "cbbdd1d0-ab2c-4b8e-a45d-34a5fabbbbd6",
   "metadata": {},
   "outputs": [],
   "source": [
    "# if perc_bad_apples <= 0.4:\n",
    "#     print('Klasse 1: naar supermarkt')\n",
    "# elif perc_bad_apples > 0.4 and perc_bad_apples < 6.5:\n",
    "#     print('Klasse 2: naar appelmoesfabriek')\n",
    "# elif perc_bad_apples >= 6.5 and perc_bad_apples < 15:\n",
    "#     print('Klasse 3: naar appelstroopfabriek')\n",
    "# else:\n",
    "#     print('Klasse 4: naar de varkens ermee!')"
   ]
  },
  {
   "cell_type": "code",
   "execution_count": null,
   "id": "abeef575-344a-49fb-b448-f6d2fd485bfb",
   "metadata": {},
   "outputs": [],
   "source": []
  }
 ],
 "metadata": {
  "kernelspec": {
   "display_name": "Python 3 (ipykernel)",
   "language": "python",
   "name": "python3"
  },
  "language_info": {
   "codemirror_mode": {
    "name": "ipython",
    "version": 3
   },
   "file_extension": ".py",
   "mimetype": "text/x-python",
   "name": "python",
   "nbconvert_exporter": "python",
   "pygments_lexer": "ipython3",
   "version": "3.10.11"
  }
 },
 "nbformat": 4,
 "nbformat_minor": 5
}
