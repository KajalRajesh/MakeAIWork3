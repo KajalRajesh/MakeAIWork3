{
 "cells": [
  {
   "cell_type": "code",
   "execution_count": 25,
   "id": "aae21da9-d826-4773-b184-09bca72ff5f0",
   "metadata": {},
   "outputs": [],
   "source": [
    "import matplotlib.pyplot as plt\n",
    "from torchvision import datasets, transforms\n",
    "from torch.utils.data import DataLoader\n",
    "import torch.nn as nn\n",
    "import torch.nn.functional as F\n",
    "import torch.optim as optim\n",
    "import torch\n",
    "def get_data():\n",
    "    data_dir = \"C:/Users/Lenovo/MakeAIWork3\"\n",
    "\n",
    "    train_set = datasets.ImageFolder(data_dir + '/Train')\n",
    "    test_set = datasets.ImageFolder(data_dir + '/Test')\n",
    "\n",
    "    return train_set, test_set"
   ]
  },
  {
   "cell_type": "code",
   "execution_count": 26,
   "id": "f875b82a-9847-4dd5-b84b-ca3576d9f645",
   "metadata": {},
   "outputs": [],
   "source": [
    "def get_data():\n",
    "    data_dir = 'C:/Users/Lenovo/MakeAIWork3/'\n",
    "   \n",
    "    transform = transforms.Compose([\n",
    "        #transforms.RandomRotation(20),\n",
    "        transforms.RandomResizedCrop(500),\n",
    "        #transforms.RandomHorizontalFlip(),\n",
    "        transforms.ToTensor()])\n",
    "\n",
    "    train_set = datasets.ImageFolder(data_dir + '/Train', transform=transform)\n",
    "    test_set = datasets.ImageFolder(data_dir + '/Test', transform=transform)\n",
    "\n",
    "    train = DataLoader(train_set, batch_size=32, shuffle=True)\n",
    "    test = DataLoader(test_set, batch_size=32, shuffle=True)\n",
    "\n",
    "    return train, test"
   ]
  },
  {
   "cell_type": "code",
   "execution_count": 27,
   "id": "2db3790b-a5bd-4343-8dc8-4b85ecc1793f",
   "metadata": {},
   "outputs": [],
   "source": [
    "def train_imshow():\n",
    "    classes = ('Blotch_apple', 'Normal_apple', 'Rot_apple', 'Scab_apple') # Defining the classes we have\n",
    "    dataiter = iter(train)\n",
    "    images, labels = dataiter.next()\n",
    "    fig, axes = plt.subplots(figsize=(10, 4), ncols=5)\n",
    "    for i in range(5):\n",
    "        ax = axes[i]\n",
    "        ax.imshow(images[i].permute(1, 2, 0)) \n",
    "        ax.title.set_text(' '.join('%5s' % classes[labels[i]]))\n",
    "    plt.show()"
   ]
  },
  {
   "cell_type": "code",
   "execution_count": null,
   "id": "15b9665a-2c78-4329-8f2b-eb7909c5c03f",
   "metadata": {},
   "outputs": [],
   "source": [
    "import torch\n",
    "import torch.nn as nn\n",
    "import torch.optim as optim\n",
    "import torchvision\n",
    "from torchvision import transforms\n",
    "\n",
    "data_dir = \"C:/Users/Lenovo/MakeAIWork3/images\"\n",
    "\n",
    "transform = transforms.Compose([\n",
    "    transforms.Resize((64, 64)),    # Resize the images to a consistent size\n",
    "    transforms.ToTensor(),          # Convert images to tensors\n",
    "    transforms.Normalize((0.5, 0.5, 0.5), (0.5, 0.5, 0.5)),  # Normalize the image tensors\n",
    "])\n",
    "\n",
    "train_dataset = torchvision.datasets.ImageFolder(root=dataset_path + '/Train', transform=transform)\n",
    "val_dataset = torchvision.datasets.ImageFolder(root=dataset_path + '/Test', transform=transform)\n"
   ]
  },
  {
   "cell_type": "code",
   "execution_count": null,
   "id": "2a3b3374-06a4-4c56-8e19-9fcc1be4bf13",
   "metadata": {},
   "outputs": [],
   "source": []
  }
 ],
 "metadata": {
  "kernelspec": {
   "display_name": "Python 3 (ipykernel)",
   "language": "python",
   "name": "python3"
  },
  "language_info": {
   "codemirror_mode": {
    "name": "ipython",
    "version": 3
   },
   "file_extension": ".py",
   "mimetype": "text/x-python",
   "name": "python",
   "nbconvert_exporter": "python",
   "pygments_lexer": "ipython3",
   "version": "3.10.11"
  }
 },
 "nbformat": 4,
 "nbformat_minor": 5
}
